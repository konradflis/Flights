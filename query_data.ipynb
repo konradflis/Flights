{
 "cells": [
  {
   "cell_type": "markdown",
   "id": "8543a266",
   "metadata": {},
   "source": [
    "# Query and Join Data\n",
    "This notebook demonstrates how to query and join data from the models to resemble an imported CSV file. Missing data will be represented as NaN."
   ]
  },
  {
   "cell_type": "code",
   "execution_count": null,
   "id": "e3727f3c",
   "metadata": {},
   "outputs": [],
   "source": [
    "from models import Airline, Airport, Airplane, Flight, FlightDetails\n",
    "from sqlalchemy.orm import sessionmaker, aliased\n",
    "from sqlalchemy import create_engine\n",
    "import pandas as pd\n",
    "\n",
    "# Set up the database connection\n",
    "engine = create_engine(\"sqlite:///flights.db\")\n",
    "Session = sessionmaker(bind=engine)\n",
    "session = Session()"
   ]
  },
  {
   "cell_type": "code",
   "execution_count": null,
   "id": "a94635b6",
   "metadata": {},
   "outputs": [],
   "source": [
    "# Alias the Airport table for departure and arrival airports\n",
    "DepartureAirport = aliased(Airport)\n",
    "ArrivalAirport = aliased(Airport)\n",
    "\n",
    "# Query and join data using SQLAlchemy ORM with outer joins\n",
    "query = (\n",
    "    session.query(\n",
    "        Flight.id.label(\"flight_id\"),\n",
    "        Flight.status,\n",
    "        FlightDetails.flight_number,\n",
    "        FlightDetails.call_sign,\n",
    "        Airline.airline_name,\n",
    "        Airline.airline_iata,\n",
    "        Airline.airline_icao,\n",
    "        Airplane.aircraft_model,\n",
    "        Airplane.aircraft_reg,\n",
    "        DepartureAirport.airport_name.label(\"departure_airport_name\"),\n",
    "        DepartureAirport.airport_iata.label(\"departure_airport_iata\"),\n",
    "        DepartureAirport.airport_icao.label(\"departure_airport_icao\"),\n",
    "        DepartureAirport.timezone.label(\"departure_timezone\"),\n",
    "        ArrivalAirport.airport_name.label(\"arrival_airport_name\"),\n",
    "        ArrivalAirport.airport_iata.label(\"arrival_airport_iata\"),\n",
    "        ArrivalAirport.airport_icao.label(\"arrival_airport_icao\"),\n",
    "        ArrivalAirport.timezone.label(\"arrival_timezone\"),\n",
    "        Flight.dep_date_time_UTC.label(\"departure_datetime\"),\n",
    "        Flight.dep_rev_date_time_UTC.label(\"departure_datetime_revised\"),\n",
    "        Flight.arr_date_time_UTC.label(\"arrival_datetime\"),\n",
    "        Flight.arr_rev_date_time_UTC.label(\"arrival_datetime_revised\"),\n",
    "    )\n",
    "    .outerjoin(FlightDetails, Flight.flight_details_id == FlightDetails.id)\n",
    "    .outerjoin(Airline, Flight.arline_id == Airline.id)  # Corrected typo\n",
    "    .outerjoin(Airplane, Flight.airplane_id == Airplane.id)\n",
    "    .outerjoin(DepartureAirport, Flight.dep_airport_id == DepartureAirport.id)\n",
    "    .outerjoin(ArrivalAirport, Flight.arr_airport_id == ArrivalAirport.id)\n",
    ")\n",
    "\n",
    "# Convert the query result to a Pandas DataFrame\n",
    "joined_data = pd.DataFrame(query.all(), columns=[\n",
    "    \"flight_id\", \"status\", \"flight_number\", \"call_sign\", \"airline_name\", \n",
    "    \"airline_iata\", \"airline_icao\", \"aircraft_model\", \"aircraft_reg\", \n",
    "    \"departure_airport_name\", \"departure_airport_iata\", \"departure_airport_icao\", \n",
    "    \"departure_timezone\", \"arrival_airport_name\", \"arrival_airport_iata\", \n",
    "    \"arrival_airport_icao\", \"arrival_timezone\", \"departure_datetime\", \"departure_datetime_revised\", \n",
    "    \"arrival_datetime\", \"arrival_datetime_revised\"\n",
    "])"
   ]
  },
  {
   "cell_type": "code",
   "execution_count": null,
   "id": "c9b0ed11",
   "metadata": {},
   "outputs": [],
   "source": [
    "joined_data.head()"
   ]
  },
  {
   "cell_type": "code",
   "execution_count": null,
   "id": "8751b903",
   "metadata": {},
   "outputs": [],
   "source": [
    "# Select specific columns to keep\n",
    "columns_to_keep = [\n",
    "    \"flight_number\",\n",
    "    \"call_sign\",\n",
    "    \"status\",\n",
    "    \"airline_name\",\n",
    "    \"airline_iata\",\n",
    "    \"airline_icao\",\n",
    "    \"aircraft_reg\",\n",
    "    \"aircraft_model\",\n",
    "    \"departure_airport_name\",\n",
    "    \"departure_airport_iata\",\n",
    "    \"departure_airport_icao\",\n",
    "    \"departure_timezone\",\n",
    "    \"departure_datetime\",\n",
    "    \"departure_datetime_revised\",\n",
    "    \"arrival_airport_name\",\n",
    "    \"arrival_airport_iata\",\n",
    "    \"arrival_airport_icao\",\n",
    "    \"arrival_timezone\",\n",
    "    \"arrival_datetime\",\n",
    "    \"arrival_datetime_revised\",\n",
    "]\n",
    "\n",
    "cleaned_data = joined_data[columns_to_keep]"
   ]
  },
  {
   "cell_type": "code",
   "execution_count": null,
   "id": "eab2a5f0",
   "metadata": {},
   "outputs": [],
   "source": [
    "cleaned_data.head()"
   ]
  },
  {
   "cell_type": "code",
   "execution_count": null,
   "id": "883af35f",
   "metadata": {},
   "outputs": [],
   "source": [
    "cleaned_data.isnull().sum()"
   ]
  },
  {
   "cell_type": "code",
   "execution_count": null,
   "id": "18d9cc2a",
   "metadata": {},
   "outputs": [],
   "source": [
    "cleaned_data.to_csv(\"csv_retrieved/cleaned_flight_data.csv\", index=False)"
   ]
  }
 ],
 "metadata": {
  "kernelspec": {
   "display_name": ".venv",
   "language": "python",
   "name": "python3"
  },
  "language_info": {
   "codemirror_mode": {
    "name": "ipython",
    "version": 3
   },
   "file_extension": ".py",
   "mimetype": "text/x-python",
   "name": "python",
   "nbconvert_exporter": "python",
   "pygments_lexer": "ipython3",
   "version": "3.13.2"
  }
 },
 "nbformat": 4,
 "nbformat_minor": 5
}
